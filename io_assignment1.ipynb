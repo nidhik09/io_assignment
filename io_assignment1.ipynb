{
  "nbformat": 4,
  "nbformat_minor": 0,
  "metadata": {
    "colab": {
      "provenance": []
    },
    "kernelspec": {
      "name": "python3",
      "display_name": "Python 3"
    },
    "language_info": {
      "name": "python"
    }
  },
  "cells": [
    {
      "cell_type": "code",
      "execution_count": 1,
      "metadata": {
        "id": "ZyQoTjpxa_tI"
      },
      "outputs": [],
      "source": [
        "import numpy as np\n",
        "import matplotlib.pyplot as plt\n",
        "import pandas as pd"
      ]
    },
    {
      "cell_type": "code",
      "source": [
        "dataset= pd.read_csv('SwedishMotorInsurance.csv')\n",
        "dataset\n",
        "x = dataset.iloc[:, :-1].values\n",
        "y = dataset.iloc[:, -1].values"
      ],
      "metadata": {
        "id": "e06WsMukbeVD"
      },
      "execution_count": 2,
      "outputs": []
    },
    {
      "cell_type": "code",
      "source": [
        "dataset"
      ],
      "metadata": {
        "colab": {
          "base_uri": "https://localhost:8080/",
          "height": 423
        },
        "id": "GX0Xp5JDeEfl",
        "outputId": "4fe4807e-e1ea-4ff8-8c84-49d575e0726c"
      },
      "execution_count": 3,
      "outputs": [
        {
          "output_type": "execute_result",
          "data": {
            "text/plain": [
              "      Kilometres  Zone  Bonus  Make  Insured  Claims  Payment\n",
              "0              1     1      1     1   455.13     108   392491\n",
              "1              1     1      1     2    69.17      19    46221\n",
              "2              1     1      1     3    72.88      13    15694\n",
              "3              1     1      1     4  1292.39     124   422201\n",
              "4              1     1      1     5   191.01      40   119373\n",
              "...          ...   ...    ...   ...      ...     ...      ...\n",
              "2177           5     7      7     5     8.74       0        0\n",
              "2178           5     7      7     6    16.61       0        0\n",
              "2179           5     7      7     7     2.83       1      966\n",
              "2180           5     7      7     8    13.06       0        0\n",
              "2181           5     7      7     9   384.87      16   112252\n",
              "\n",
              "[2182 rows x 7 columns]"
            ],
            "text/html": [
              "\n",
              "  <div id=\"df-6ba46ba1-ea64-4091-9f45-148224411dee\" class=\"colab-df-container\">\n",
              "    <div>\n",
              "<style scoped>\n",
              "    .dataframe tbody tr th:only-of-type {\n",
              "        vertical-align: middle;\n",
              "    }\n",
              "\n",
              "    .dataframe tbody tr th {\n",
              "        vertical-align: top;\n",
              "    }\n",
              "\n",
              "    .dataframe thead th {\n",
              "        text-align: right;\n",
              "    }\n",
              "</style>\n",
              "<table border=\"1\" class=\"dataframe\">\n",
              "  <thead>\n",
              "    <tr style=\"text-align: right;\">\n",
              "      <th></th>\n",
              "      <th>Kilometres</th>\n",
              "      <th>Zone</th>\n",
              "      <th>Bonus</th>\n",
              "      <th>Make</th>\n",
              "      <th>Insured</th>\n",
              "      <th>Claims</th>\n",
              "      <th>Payment</th>\n",
              "    </tr>\n",
              "  </thead>\n",
              "  <tbody>\n",
              "    <tr>\n",
              "      <th>0</th>\n",
              "      <td>1</td>\n",
              "      <td>1</td>\n",
              "      <td>1</td>\n",
              "      <td>1</td>\n",
              "      <td>455.13</td>\n",
              "      <td>108</td>\n",
              "      <td>392491</td>\n",
              "    </tr>\n",
              "    <tr>\n",
              "      <th>1</th>\n",
              "      <td>1</td>\n",
              "      <td>1</td>\n",
              "      <td>1</td>\n",
              "      <td>2</td>\n",
              "      <td>69.17</td>\n",
              "      <td>19</td>\n",
              "      <td>46221</td>\n",
              "    </tr>\n",
              "    <tr>\n",
              "      <th>2</th>\n",
              "      <td>1</td>\n",
              "      <td>1</td>\n",
              "      <td>1</td>\n",
              "      <td>3</td>\n",
              "      <td>72.88</td>\n",
              "      <td>13</td>\n",
              "      <td>15694</td>\n",
              "    </tr>\n",
              "    <tr>\n",
              "      <th>3</th>\n",
              "      <td>1</td>\n",
              "      <td>1</td>\n",
              "      <td>1</td>\n",
              "      <td>4</td>\n",
              "      <td>1292.39</td>\n",
              "      <td>124</td>\n",
              "      <td>422201</td>\n",
              "    </tr>\n",
              "    <tr>\n",
              "      <th>4</th>\n",
              "      <td>1</td>\n",
              "      <td>1</td>\n",
              "      <td>1</td>\n",
              "      <td>5</td>\n",
              "      <td>191.01</td>\n",
              "      <td>40</td>\n",
              "      <td>119373</td>\n",
              "    </tr>\n",
              "    <tr>\n",
              "      <th>...</th>\n",
              "      <td>...</td>\n",
              "      <td>...</td>\n",
              "      <td>...</td>\n",
              "      <td>...</td>\n",
              "      <td>...</td>\n",
              "      <td>...</td>\n",
              "      <td>...</td>\n",
              "    </tr>\n",
              "    <tr>\n",
              "      <th>2177</th>\n",
              "      <td>5</td>\n",
              "      <td>7</td>\n",
              "      <td>7</td>\n",
              "      <td>5</td>\n",
              "      <td>8.74</td>\n",
              "      <td>0</td>\n",
              "      <td>0</td>\n",
              "    </tr>\n",
              "    <tr>\n",
              "      <th>2178</th>\n",
              "      <td>5</td>\n",
              "      <td>7</td>\n",
              "      <td>7</td>\n",
              "      <td>6</td>\n",
              "      <td>16.61</td>\n",
              "      <td>0</td>\n",
              "      <td>0</td>\n",
              "    </tr>\n",
              "    <tr>\n",
              "      <th>2179</th>\n",
              "      <td>5</td>\n",
              "      <td>7</td>\n",
              "      <td>7</td>\n",
              "      <td>7</td>\n",
              "      <td>2.83</td>\n",
              "      <td>1</td>\n",
              "      <td>966</td>\n",
              "    </tr>\n",
              "    <tr>\n",
              "      <th>2180</th>\n",
              "      <td>5</td>\n",
              "      <td>7</td>\n",
              "      <td>7</td>\n",
              "      <td>8</td>\n",
              "      <td>13.06</td>\n",
              "      <td>0</td>\n",
              "      <td>0</td>\n",
              "    </tr>\n",
              "    <tr>\n",
              "      <th>2181</th>\n",
              "      <td>5</td>\n",
              "      <td>7</td>\n",
              "      <td>7</td>\n",
              "      <td>9</td>\n",
              "      <td>384.87</td>\n",
              "      <td>16</td>\n",
              "      <td>112252</td>\n",
              "    </tr>\n",
              "  </tbody>\n",
              "</table>\n",
              "<p>2182 rows × 7 columns</p>\n",
              "</div>\n",
              "    <div class=\"colab-df-buttons\">\n",
              "\n",
              "  <div class=\"colab-df-container\">\n",
              "    <button class=\"colab-df-convert\" onclick=\"convertToInteractive('df-6ba46ba1-ea64-4091-9f45-148224411dee')\"\n",
              "            title=\"Convert this dataframe to an interactive table.\"\n",
              "            style=\"display:none;\">\n",
              "\n",
              "  <svg xmlns=\"http://www.w3.org/2000/svg\" height=\"24px\" viewBox=\"0 -960 960 960\">\n",
              "    <path d=\"M120-120v-720h720v720H120Zm60-500h600v-160H180v160Zm220 220h160v-160H400v160Zm0 220h160v-160H400v160ZM180-400h160v-160H180v160Zm440 0h160v-160H620v160ZM180-180h160v-160H180v160Zm440 0h160v-160H620v160Z\"/>\n",
              "  </svg>\n",
              "    </button>\n",
              "\n",
              "  <style>\n",
              "    .colab-df-container {\n",
              "      display:flex;\n",
              "      gap: 12px;\n",
              "    }\n",
              "\n",
              "    .colab-df-convert {\n",
              "      background-color: #E8F0FE;\n",
              "      border: none;\n",
              "      border-radius: 50%;\n",
              "      cursor: pointer;\n",
              "      display: none;\n",
              "      fill: #1967D2;\n",
              "      height: 32px;\n",
              "      padding: 0 0 0 0;\n",
              "      width: 32px;\n",
              "    }\n",
              "\n",
              "    .colab-df-convert:hover {\n",
              "      background-color: #E2EBFA;\n",
              "      box-shadow: 0px 1px 2px rgba(60, 64, 67, 0.3), 0px 1px 3px 1px rgba(60, 64, 67, 0.15);\n",
              "      fill: #174EA6;\n",
              "    }\n",
              "\n",
              "    .colab-df-buttons div {\n",
              "      margin-bottom: 4px;\n",
              "    }\n",
              "\n",
              "    [theme=dark] .colab-df-convert {\n",
              "      background-color: #3B4455;\n",
              "      fill: #D2E3FC;\n",
              "    }\n",
              "\n",
              "    [theme=dark] .colab-df-convert:hover {\n",
              "      background-color: #434B5C;\n",
              "      box-shadow: 0px 1px 3px 1px rgba(0, 0, 0, 0.15);\n",
              "      filter: drop-shadow(0px 1px 2px rgba(0, 0, 0, 0.3));\n",
              "      fill: #FFFFFF;\n",
              "    }\n",
              "  </style>\n",
              "\n",
              "    <script>\n",
              "      const buttonEl =\n",
              "        document.querySelector('#df-6ba46ba1-ea64-4091-9f45-148224411dee button.colab-df-convert');\n",
              "      buttonEl.style.display =\n",
              "        google.colab.kernel.accessAllowed ? 'block' : 'none';\n",
              "\n",
              "      async function convertToInteractive(key) {\n",
              "        const element = document.querySelector('#df-6ba46ba1-ea64-4091-9f45-148224411dee');\n",
              "        const dataTable =\n",
              "          await google.colab.kernel.invokeFunction('convertToInteractive',\n",
              "                                                    [key], {});\n",
              "        if (!dataTable) return;\n",
              "\n",
              "        const docLinkHtml = 'Like what you see? Visit the ' +\n",
              "          '<a target=\"_blank\" href=https://colab.research.google.com/notebooks/data_table.ipynb>data table notebook</a>'\n",
              "          + ' to learn more about interactive tables.';\n",
              "        element.innerHTML = '';\n",
              "        dataTable['output_type'] = 'display_data';\n",
              "        await google.colab.output.renderOutput(dataTable, element);\n",
              "        const docLink = document.createElement('div');\n",
              "        docLink.innerHTML = docLinkHtml;\n",
              "        element.appendChild(docLink);\n",
              "      }\n",
              "    </script>\n",
              "  </div>\n",
              "\n",
              "\n",
              "<div id=\"df-06690711-89e7-4802-ac6d-864e2168a9df\">\n",
              "  <button class=\"colab-df-quickchart\" onclick=\"quickchart('df-06690711-89e7-4802-ac6d-864e2168a9df')\"\n",
              "            title=\"Suggest charts.\"\n",
              "            style=\"display:none;\">\n",
              "\n",
              "<svg xmlns=\"http://www.w3.org/2000/svg\" height=\"24px\"viewBox=\"0 0 24 24\"\n",
              "     width=\"24px\">\n",
              "    <g>\n",
              "        <path d=\"M19 3H5c-1.1 0-2 .9-2 2v14c0 1.1.9 2 2 2h14c1.1 0 2-.9 2-2V5c0-1.1-.9-2-2-2zM9 17H7v-7h2v7zm4 0h-2V7h2v10zm4 0h-2v-4h2v4z\"/>\n",
              "    </g>\n",
              "</svg>\n",
              "  </button>\n",
              "\n",
              "<style>\n",
              "  .colab-df-quickchart {\n",
              "      --bg-color: #E8F0FE;\n",
              "      --fill-color: #1967D2;\n",
              "      --hover-bg-color: #E2EBFA;\n",
              "      --hover-fill-color: #174EA6;\n",
              "      --disabled-fill-color: #AAA;\n",
              "      --disabled-bg-color: #DDD;\n",
              "  }\n",
              "\n",
              "  [theme=dark] .colab-df-quickchart {\n",
              "      --bg-color: #3B4455;\n",
              "      --fill-color: #D2E3FC;\n",
              "      --hover-bg-color: #434B5C;\n",
              "      --hover-fill-color: #FFFFFF;\n",
              "      --disabled-bg-color: #3B4455;\n",
              "      --disabled-fill-color: #666;\n",
              "  }\n",
              "\n",
              "  .colab-df-quickchart {\n",
              "    background-color: var(--bg-color);\n",
              "    border: none;\n",
              "    border-radius: 50%;\n",
              "    cursor: pointer;\n",
              "    display: none;\n",
              "    fill: var(--fill-color);\n",
              "    height: 32px;\n",
              "    padding: 0;\n",
              "    width: 32px;\n",
              "  }\n",
              "\n",
              "  .colab-df-quickchart:hover {\n",
              "    background-color: var(--hover-bg-color);\n",
              "    box-shadow: 0 1px 2px rgba(60, 64, 67, 0.3), 0 1px 3px 1px rgba(60, 64, 67, 0.15);\n",
              "    fill: var(--button-hover-fill-color);\n",
              "  }\n",
              "\n",
              "  .colab-df-quickchart-complete:disabled,\n",
              "  .colab-df-quickchart-complete:disabled:hover {\n",
              "    background-color: var(--disabled-bg-color);\n",
              "    fill: var(--disabled-fill-color);\n",
              "    box-shadow: none;\n",
              "  }\n",
              "\n",
              "  .colab-df-spinner {\n",
              "    border: 2px solid var(--fill-color);\n",
              "    border-color: transparent;\n",
              "    border-bottom-color: var(--fill-color);\n",
              "    animation:\n",
              "      spin 1s steps(1) infinite;\n",
              "  }\n",
              "\n",
              "  @keyframes spin {\n",
              "    0% {\n",
              "      border-color: transparent;\n",
              "      border-bottom-color: var(--fill-color);\n",
              "      border-left-color: var(--fill-color);\n",
              "    }\n",
              "    20% {\n",
              "      border-color: transparent;\n",
              "      border-left-color: var(--fill-color);\n",
              "      border-top-color: var(--fill-color);\n",
              "    }\n",
              "    30% {\n",
              "      border-color: transparent;\n",
              "      border-left-color: var(--fill-color);\n",
              "      border-top-color: var(--fill-color);\n",
              "      border-right-color: var(--fill-color);\n",
              "    }\n",
              "    40% {\n",
              "      border-color: transparent;\n",
              "      border-right-color: var(--fill-color);\n",
              "      border-top-color: var(--fill-color);\n",
              "    }\n",
              "    60% {\n",
              "      border-color: transparent;\n",
              "      border-right-color: var(--fill-color);\n",
              "    }\n",
              "    80% {\n",
              "      border-color: transparent;\n",
              "      border-right-color: var(--fill-color);\n",
              "      border-bottom-color: var(--fill-color);\n",
              "    }\n",
              "    90% {\n",
              "      border-color: transparent;\n",
              "      border-bottom-color: var(--fill-color);\n",
              "    }\n",
              "  }\n",
              "</style>\n",
              "\n",
              "  <script>\n",
              "    async function quickchart(key) {\n",
              "      const quickchartButtonEl =\n",
              "        document.querySelector('#' + key + ' button');\n",
              "      quickchartButtonEl.disabled = true;  // To prevent multiple clicks.\n",
              "      quickchartButtonEl.classList.add('colab-df-spinner');\n",
              "      try {\n",
              "        const charts = await google.colab.kernel.invokeFunction(\n",
              "            'suggestCharts', [key], {});\n",
              "      } catch (error) {\n",
              "        console.error('Error during call to suggestCharts:', error);\n",
              "      }\n",
              "      quickchartButtonEl.classList.remove('colab-df-spinner');\n",
              "      quickchartButtonEl.classList.add('colab-df-quickchart-complete');\n",
              "    }\n",
              "    (() => {\n",
              "      let quickchartButtonEl =\n",
              "        document.querySelector('#df-06690711-89e7-4802-ac6d-864e2168a9df button');\n",
              "      quickchartButtonEl.style.display =\n",
              "        google.colab.kernel.accessAllowed ? 'block' : 'none';\n",
              "    })();\n",
              "  </script>\n",
              "</div>\n",
              "    </div>\n",
              "  </div>\n"
            ]
          },
          "metadata": {},
          "execution_count": 3
        }
      ]
    },
    {
      "cell_type": "code",
      "source": [
        "print(x)"
      ],
      "metadata": {
        "colab": {
          "base_uri": "https://localhost:8080/"
        },
        "id": "1X99i_uFeQzw",
        "outputId": "0166e221-08a8-492e-abf5-59bfa7d8041d"
      },
      "execution_count": 4,
      "outputs": [
        {
          "output_type": "stream",
          "name": "stdout",
          "text": [
            "[[  1.     1.     1.     1.   455.13 108.  ]\n",
            " [  1.     1.     1.     2.    69.17  19.  ]\n",
            " [  1.     1.     1.     3.    72.88  13.  ]\n",
            " ...\n",
            " [  5.     7.     7.     7.     2.83   1.  ]\n",
            " [  5.     7.     7.     8.    13.06   0.  ]\n",
            " [  5.     7.     7.     9.   384.87  16.  ]]\n"
          ]
        }
      ]
    },
    {
      "cell_type": "code",
      "source": [
        "print(y)"
      ],
      "metadata": {
        "colab": {
          "base_uri": "https://localhost:8080/"
        },
        "id": "ba-MxKcneUQz",
        "outputId": "e17ffe5d-3600-4950-982a-df067b42a4f9"
      },
      "execution_count": 5,
      "outputs": [
        {
          "output_type": "stream",
          "name": "stdout",
          "text": [
            "[392491  46221  15694 ...    966      0 112252]\n"
          ]
        }
      ]
    },
    {
      "cell_type": "code",
      "source": [
        "from sklearn.impute import SimpleImputer\n",
        "imputer = SimpleImputer(missing_values=0, strategy = 'mean')\n",
        "imputer.fit(x[:,4:6])\n",
        "x[:, 4:6]= imputer.transform(x[:, 4:6])\n"
      ],
      "metadata": {
        "id": "x0H9cOg0elHb"
      },
      "execution_count": 6,
      "outputs": []
    },
    {
      "cell_type": "code",
      "source": [
        "print(x)"
      ],
      "metadata": {
        "colab": {
          "base_uri": "https://localhost:8080/"
        },
        "id": "VdMHOFHrvWF1",
        "outputId": "dad8a06d-fbf1-4965-950c-8b3d24ece061"
      },
      "execution_count": 7,
      "outputs": [
        {
          "output_type": "stream",
          "name": "stdout",
          "text": [
            "[[  1.           1.           1.           1.         455.13\n",
            "  108.        ]\n",
            " [  1.           1.           1.           2.          69.17\n",
            "   19.        ]\n",
            " [  1.           1.           1.           3.          72.88\n",
            "   13.        ]\n",
            " ...\n",
            " [  5.           7.           7.           7.           2.83\n",
            "    1.        ]\n",
            " [  5.           7.           7.           8.          13.06\n",
            "   62.97774068]\n",
            " [  5.           7.           7.           9.         384.87\n",
            "   16.        ]]\n"
          ]
        }
      ]
    },
    {
      "cell_type": "code",
      "source": [
        "from sklearn.impute import SimpleImputer\n",
        "imputer = SimpleImputer(missing_values=0, strategy='mean')\n",
        "y=y.reshape(-1,1)\n",
        "imputer.fit(y)\n",
        "y=imputer.transform(y)\n",
        "y=y.flatten()"
      ],
      "metadata": {
        "id": "XBNE8AqN6UhZ"
      },
      "execution_count": 8,
      "outputs": []
    },
    {
      "cell_type": "code",
      "source": [
        "print(y)"
      ],
      "metadata": {
        "colab": {
          "base_uri": "https://localhost:8080/"
        },
        "id": "ohOjTnf1pnUW",
        "outputId": "07317135-53f7-46f7-8e2f-a9a1e576c6ee"
      },
      "execution_count": 9,
      "outputs": [
        {
          "output_type": "stream",
          "name": "stdout",
          "text": [
            "[392491.          46221.          15694.         ...    966.\n",
            " 312070.49582638 112252.        ]\n"
          ]
        }
      ]
    },
    {
      "cell_type": "code",
      "source": [
        "from sklearn.model_selection import train_test_split\n",
        "x_train, x_test, y_train, y_test= train_test_split(x,y, test_size=1/3, random_state =0)"
      ],
      "metadata": {
        "id": "FIUcfCEJvjDw"
      },
      "execution_count": 10,
      "outputs": []
    },
    {
      "cell_type": "code",
      "source": [
        "print(x_train)"
      ],
      "metadata": {
        "colab": {
          "base_uri": "https://localhost:8080/"
        },
        "id": "TIZRGS4Gpy7j",
        "outputId": "42d10c80-0587-42b0-f158-cc77f959d723"
      },
      "execution_count": 11,
      "outputs": [
        {
          "output_type": "stream",
          "name": "stdout",
          "text": [
            "[[  4.     5.     6.     1.   136.9   12.  ]\n",
            " [  2.     5.     5.     7.    81.9    6.  ]\n",
            " [  3.     4.     5.     5.   262.73  18.  ]\n",
            " ...\n",
            " [  2.     6.     2.     1.   503.2   51.  ]\n",
            " [  2.     7.     3.     1.    35.15   1.  ]\n",
            " [  4.     6.     2.     9.   468.91  34.  ]]\n"
          ]
        }
      ]
    },
    {
      "cell_type": "code",
      "source": [
        "print(y_train)"
      ],
      "metadata": {
        "colab": {
          "base_uri": "https://localhost:8080/"
        },
        "id": "TZVvmI4ZqD2A",
        "outputId": "942581f7-015e-4785-a7a7-e8f844fbdd29"
      },
      "execution_count": 12,
      "outputs": [
        {
          "output_type": "stream",
          "name": "stdout",
          "text": [
            "[ 96970.  72912.  44435. ... 272422.   2200. 209378.]\n"
          ]
        }
      ]
    },
    {
      "cell_type": "code",
      "source": [
        "print(x_test)"
      ],
      "metadata": {
        "colab": {
          "base_uri": "https://localhost:8080/"
        },
        "id": "WnBE7t0mqKQd",
        "outputId": "5cca7783-0bf4-4afa-f579-504eb7453e33"
      },
      "execution_count": 13,
      "outputs": [
        {
          "output_type": "stream",
          "name": "stdout",
          "text": [
            "[[5.00000000e+00 5.00000000e+00 1.00000000e+00 1.00000000e+00\n",
            "  9.75000000e+00 6.29777407e+01]\n",
            " [2.00000000e+00 1.00000000e+00 3.00000000e+00 5.00000000e+00\n",
            "  1.34820000e+02 1.90000000e+01]\n",
            " [3.00000000e+00 7.00000000e+00 7.00000000e+00 1.00000000e+00\n",
            "  2.88360000e+02 1.20000000e+01]\n",
            " ...\n",
            " [3.00000000e+00 6.00000000e+00 3.00000000e+00 5.00000000e+00\n",
            "  5.40100000e+01 4.00000000e+00]\n",
            " [1.00000000e+00 3.00000000e+00 6.00000000e+00 1.00000000e+00\n",
            "  1.06028000e+03 4.30000000e+01]\n",
            " [1.00000000e+00 7.00000000e+00 5.00000000e+00 1.00000000e+00\n",
            "  1.98700000e+01 6.29777407e+01]]\n"
          ]
        }
      ]
    },
    {
      "cell_type": "code",
      "source": [
        "print(y_test)"
      ],
      "metadata": {
        "colab": {
          "base_uri": "https://localhost:8080/"
        },
        "id": "956XBPy_qN6s",
        "outputId": "e9d7fa62-b96f-4f73-fd63-069a719f7b93"
      },
      "execution_count": 14,
      "outputs": [
        {
          "output_type": "stream",
          "name": "stdout",
          "text": [
            "[3.12070496e+05 1.11059000e+05 4.12060000e+04 9.95013100e+06\n",
            " 6.76893000e+05 7.48040000e+04 3.12070496e+05 1.50990000e+04\n",
            " 4.49815000e+05 2.89947000e+06 6.48120000e+04 3.12070496e+05\n",
            " 5.94900000e+03 6.93900000e+03 3.72470000e+04 1.61455000e+05\n",
            " 7.24400000e+03 6.90600000e+03 3.39250000e+04 5.05940000e+05\n",
            " 3.12070496e+05 4.90610000e+04 8.68010000e+04 3.60223000e+05\n",
            " 2.05900000e+03 1.25890000e+04 6.13410000e+04 7.67560000e+04\n",
            " 4.14590000e+04 5.00670000e+04 4.75910000e+04 1.05430000e+04\n",
            " 1.42030000e+04 3.12070496e+05 3.15091200e+06 1.87800000e+03\n",
            " 4.73800000e+03 9.25720000e+04 4.74950000e+04 5.20377000e+05\n",
            " 3.14420000e+04 7.06240000e+04 4.98440000e+04 4.58100000e+03\n",
            " 8.25800000e+03 3.76430000e+04 3.12070496e+05 1.82641000e+05\n",
            " 1.30260000e+04 1.94340000e+04 4.70051000e+05 2.96108000e+05\n",
            " 4.50864000e+05 3.12070496e+05 2.62900000e+03 3.60290000e+04\n",
            " 1.19909000e+05 1.04458500e+06 3.95200000e+03 8.39000000e+03\n",
            " 9.11350000e+04 1.17427000e+06 3.95980000e+04 7.71665000e+05\n",
            " 1.05190000e+04 4.65600000e+03 1.57981000e+05 1.10181000e+05\n",
            " 1.16420000e+04 4.19050000e+04 1.12479000e+05 3.12070496e+05\n",
            " 2.34736000e+05 3.12070496e+05 8.74100000e+03 3.12070496e+05\n",
            " 1.42536000e+05 9.56000000e+02 3.42421000e+05 3.19803000e+05\n",
            " 3.48440000e+04 5.79160000e+04 1.17620000e+04 1.08198000e+05\n",
            " 3.12070496e+05 5.51030000e+04 5.96340000e+04 9.94290000e+04\n",
            " 4.03190000e+04 1.07923000e+06 3.12070496e+05 8.00410000e+04\n",
            " 9.03100000e+04 4.38695000e+05 3.12070496e+05 3.14420000e+04\n",
            " 1.55460000e+04 5.23270000e+04 6.41508000e+05 2.30870000e+04\n",
            " 5.20600000e+04 4.89424000e+05 1.52050000e+04 1.57130000e+04\n",
            " 3.88700000e+03 9.01620000e+04 3.12070496e+05 1.41774000e+05\n",
            " 3.12070496e+05 7.53740000e+04 2.46910000e+04 1.35810000e+04\n",
            " 5.28367000e+05 1.45300000e+03 6.53118000e+05 1.44950000e+05\n",
            " 3.12070496e+05 5.28100000e+03 1.50031000e+05 6.38700000e+03\n",
            " 3.12070496e+05 9.30380000e+04 2.70670000e+04 2.70880000e+04\n",
            " 3.86630000e+04 3.12070496e+05 1.67810000e+04 1.59150000e+04\n",
            " 3.12070496e+05 4.90220000e+04 7.46600000e+03 1.26470000e+04\n",
            " 1.20220000e+04 3.33333000e+05 3.12070496e+05 2.32521000e+05\n",
            " 1.26080000e+04 2.49250000e+04 6.63530000e+04 3.49790000e+04\n",
            " 3.50253500e+06 3.12070496e+05 6.21100000e+03 8.69910000e+04\n",
            " 1.37963000e+05 9.51290000e+04 8.11900000e+03 1.10340000e+04\n",
            " 2.02413000e+05 3.12070496e+05 3.12070496e+05 6.04161000e+05\n",
            " 5.50400000e+03 4.94800000e+04 5.52300000e+03 2.43742900e+06\n",
            " 4.54100000e+04 2.08573000e+05 3.39090000e+04 3.60800000e+03\n",
            " 3.23550000e+04 1.69849000e+05 1.34931000e+05 2.57790000e+04\n",
            " 3.12070496e+05 2.28540000e+04 8.33890000e+04 3.12070496e+05\n",
            " 2.94693000e+05 1.22680000e+04 6.77900000e+03 6.68510000e+04\n",
            " 4.42200000e+03 2.57851000e+05 1.30489000e+05 3.12070496e+05\n",
            " 8.18890000e+04 8.10520000e+04 3.46500000e+03 5.01400000e+03\n",
            " 1.15580000e+04 3.51740000e+04 3.12070496e+05 6.19580000e+04\n",
            " 3.12070496e+05 3.58980000e+04 3.12070496e+05 3.12070496e+05\n",
            " 2.76200000e+03 9.71530000e+04 4.00000000e+02 1.03196000e+05\n",
            " 2.97189000e+05 3.12070496e+05 6.78305700e+06 1.55401620e+07\n",
            " 9.81400000e+04 4.56585000e+05 5.47349000e+05 3.12070496e+05\n",
            " 3.12070496e+05 2.53190000e+04 5.32280000e+04 6.17880000e+04\n",
            " 2.87348700e+06 4.91970000e+04 3.12070496e+05 3.12070496e+05\n",
            " 3.25944000e+05 6.74400000e+03 2.55116000e+05 1.10527000e+05\n",
            " 5.51840000e+04 3.12070496e+05 1.93989400e+06 3.12070496e+05\n",
            " 7.94880000e+04 1.44720000e+04 3.73120000e+04 3.12070496e+05\n",
            " 1.03866000e+05 7.61800000e+03 4.41578000e+05 2.70005000e+06\n",
            " 7.02215000e+05 5.31730000e+04 5.47300000e+03 6.42100000e+03\n",
            " 3.12070496e+05 6.70550000e+04 1.86270000e+04 3.05100000e+04\n",
            " 3.12070496e+05 1.57880000e+04 6.90560000e+04 2.93500000e+03\n",
            " 3.40189000e+05 7.69832000e+06 2.53490000e+05 5.69400000e+04\n",
            " 3.78300000e+03 4.83600000e+03 3.19443000e+05 6.99000000e+03\n",
            " 1.49400000e+04 6.50600000e+03 1.30000000e+03 3.12070496e+05\n",
            " 9.21330000e+04 9.50800000e+03 2.99385000e+05 1.37598800e+06\n",
            " 2.31300000e+03 8.62800000e+03 7.96300000e+03 3.19420000e+04\n",
            " 1.17040000e+04 6.46100000e+04 9.94540000e+05 1.46200000e+04\n",
            " 3.17119000e+05 1.36300000e+03 3.14420000e+04 5.53530000e+04\n",
            " 3.12070496e+05 1.80270000e+04 3.12070496e+05 3.12070496e+05\n",
            " 3.12070496e+05 3.14420000e+04 3.12070496e+05 3.53000000e+03\n",
            " 4.61748000e+05 4.88400000e+03 2.36000000e+03 4.88110000e+04\n",
            " 1.61380000e+04 2.27030000e+04 1.03393000e+05 3.06500000e+03\n",
            " 2.70211000e+05 2.09646000e+05 4.87130000e+04 2.03598200e+06\n",
            " 1.60170000e+05 1.23100000e+03 4.31730000e+04 2.51020700e+06\n",
            " 4.90000000e+03 3.10360000e+04 5.73040000e+04 5.85000000e+04\n",
            " 1.37355000e+05 1.67229400e+06 9.20100000e+03 1.36950000e+04\n",
            " 3.12070496e+05 3.14420000e+04 3.12070496e+05 3.12070496e+05\n",
            " 2.34300000e+03 4.81200000e+03 3.12070496e+05 8.61570000e+04\n",
            " 7.34350000e+04 7.00000000e+02 3.12070496e+05 6.67400000e+03\n",
            " 2.76430000e+04 3.12070496e+05 4.91502000e+05 4.25600000e+03\n",
            " 2.17270000e+04 3.12070496e+05 1.66800000e+03 1.40183300e+06\n",
            " 4.07290000e+04 2.63426900e+06 1.61900000e+05 3.12070496e+05\n",
            " 8.91660000e+04 1.00310000e+04 2.67970000e+04 7.56340000e+04\n",
            " 2.79190000e+04 3.12070496e+05 3.12070496e+05 3.59000000e+03\n",
            " 1.28530000e+04 2.77200000e+03 3.31400000e+03 4.24300000e+04\n",
            " 7.91320000e+04 3.12070496e+05 7.62970000e+04 5.39100000e+03\n",
            " 4.17530000e+04 1.43709700e+06 7.99300000e+03 1.85840000e+04\n",
            " 4.26860000e+04 3.12070496e+05 9.12421000e+05 1.84500000e+03\n",
            " 1.21196000e+05 1.33410000e+04 3.37846000e+05 3.12070496e+05\n",
            " 9.30320000e+04 3.12070496e+05 2.32000000e+03 1.41846000e+05\n",
            " 1.49040000e+04 1.68400000e+03 7.97290000e+04 5.93110000e+04\n",
            " 3.69900000e+03 2.14011000e+05 3.50880000e+04 1.94477000e+05\n",
            " 6.42870000e+04 4.12290000e+04 1.55400000e+03 3.12070496e+05\n",
            " 1.27814000e+05 3.05082400e+06 5.64600000e+03 3.45240000e+04\n",
            " 3.12070496e+05 1.49530000e+04 8.00000000e+02 3.12070496e+05\n",
            " 5.23490000e+04 2.80000000e+03 3.64037000e+05 2.33888000e+05\n",
            " 1.37300000e+03 8.96490000e+04 2.55298000e+05 7.87400000e+03\n",
            " 3.12070496e+05 5.91100000e+03 2.07310000e+04 4.52500000e+03\n",
            " 1.03154550e+07 4.49660000e+04 6.17000000e+02 3.03872000e+05\n",
            " 4.87670000e+04 3.91430000e+05 1.65960000e+05 3.24185000e+05\n",
            " 4.99860000e+04 4.62210000e+04 4.54860000e+04 3.12070496e+05\n",
            " 9.30700000e+03 3.12070496e+05 2.70000000e+03 6.62790000e+04\n",
            " 1.05275000e+05 4.08200000e+04 2.40260000e+04 5.00000000e+03\n",
            " 3.67770000e+04 1.26672500e+06 6.27090000e+04 3.12070496e+05\n",
            " 3.00500000e+03 3.20792300e+06 5.47051000e+05 5.06100000e+03\n",
            " 7.22900000e+03 3.27700000e+03 1.27930000e+04 1.13925000e+05\n",
            " 1.20917000e+05 9.43950000e+04 2.27950000e+04 1.86030000e+04\n",
            " 3.05600000e+03 3.21580000e+04 1.69849000e+05 1.91600000e+03\n",
            " 2.38930000e+04 1.05880000e+04 7.79000000e+02 5.00000000e+03\n",
            " 1.09785000e+05 4.33200000e+03 8.39600000e+03 1.18047000e+05\n",
            " 6.65840000e+04 4.63818000e+05 1.51930000e+04 1.89534000e+05\n",
            " 1.66621000e+05 3.12070496e+05 1.29476000e+05 9.93000000e+02\n",
            " 2.94920000e+04 3.12070496e+05 3.12070496e+05 1.82210000e+04\n",
            " 3.78350000e+04 3.12070496e+05 3.16150000e+04 3.12070496e+05\n",
            " 1.85594100e+06 6.45160000e+04 1.93661000e+05 3.09679000e+05\n",
            " 7.30500000e+03 2.34344000e+05 1.26860000e+04 1.54791000e+05\n",
            " 3.12070496e+05 6.97806000e+05 7.20084000e+05 7.25380000e+04\n",
            " 4.92597000e+05 2.16873600e+06 6.53030000e+04 3.24230000e+04\n",
            " 3.12070496e+05 3.21580000e+04 1.44390000e+04 4.00470000e+04\n",
            " 1.33272000e+05 7.20800000e+04 3.14420000e+04 4.41950000e+04\n",
            " 9.94000000e+02 1.42141000e+05 1.11440000e+04 2.52234100e+06\n",
            " 2.11300000e+03 7.14510000e+04 1.24780000e+04 5.99220000e+04\n",
            " 5.13800000e+04 9.92580000e+04 1.14629000e+05 2.08710000e+04\n",
            " 1.63142700e+06 3.12070496e+05 1.75640000e+04 6.90199000e+05\n",
            " 6.91234000e+05 1.31927000e+05 2.06300000e+03 3.12070496e+05\n",
            " 1.46054000e+05 1.50614100e+06 8.50044000e+05 3.12070496e+05\n",
            " 3.12070496e+05 1.21470000e+05 1.35860000e+04 4.21670000e+04\n",
            " 1.42010000e+05 7.30430000e+04 1.08879500e+06 2.04035000e+05\n",
            " 3.12070496e+05 3.12070496e+05 2.23700000e+03 1.55704000e+05\n",
            " 1.08653400e+06 1.40840000e+04 1.58650000e+04 4.92800000e+03\n",
            " 1.33080000e+04 1.55830000e+04 4.24690000e+04 3.12070496e+05\n",
            " 2.70200000e+03 1.60600000e+03 3.21914000e+05 1.13390000e+04\n",
            " 3.14420000e+04 3.12070496e+05 1.48220000e+04 6.92500000e+04\n",
            " 6.86720000e+04 2.32180000e+04 3.12070496e+05 3.12070496e+05\n",
            " 6.67110000e+04 9.87100000e+03 3.88080000e+04 5.92300000e+03\n",
            " 2.57200000e+03 3.12070496e+05 3.12070496e+05 3.23650000e+04\n",
            " 1.79780000e+04 6.60000000e+03 2.86400000e+03 3.80081000e+05\n",
            " 3.64770000e+04 3.12070496e+05 1.28402500e+06 3.12070496e+05\n",
            " 3.14420000e+04 2.19300000e+03 1.42660000e+05 8.49800000e+03\n",
            " 2.06750000e+04 1.43915000e+05 3.29058000e+05 3.12070496e+05\n",
            " 3.50944000e+05 4.46500000e+03 7.48000000e+03 1.38432000e+05\n",
            " 1.68200000e+04 2.54810000e+04 4.13330000e+04 2.65184000e+05\n",
            " 1.13500000e+03 1.51200000e+03 1.20770000e+04 1.20580000e+04\n",
            " 3.12070496e+05 8.74410000e+04 2.08810000e+04 3.12070496e+05\n",
            " 3.12070496e+05 3.37480000e+05 6.43250000e+04 7.03950000e+04\n",
            " 1.41000000e+03 3.63710000e+04 3.69400000e+03 1.70913000e+05\n",
            " 1.80345000e+05 2.85500000e+03 3.79900000e+04 1.64480000e+04\n",
            " 2.71937000e+05 3.12070496e+05 4.19950000e+04 4.15520000e+04\n",
            " 1.13850000e+04 4.81752000e+05 3.14420000e+04 6.22350000e+05\n",
            " 3.88600000e+03 1.06855000e+05 4.86400000e+03 5.09080000e+04\n",
            " 3.12070496e+05 7.64700000e+03 3.12070496e+05 1.04869800e+06\n",
            " 1.03992000e+05 1.53794000e+05 1.10991000e+06 9.00600000e+03\n",
            " 3.14420000e+04 3.12070496e+05 3.12070496e+05 7.33300000e+03\n",
            " 3.12070496e+05 6.55780000e+04 4.75060000e+04 2.04612000e+05\n",
            " 1.33950000e+04 1.69220000e+04 3.46240000e+04 1.06240000e+04\n",
            " 3.12070496e+05 3.12070496e+05 2.17283100e+06 6.10200000e+03\n",
            " 3.52227000e+05 3.12070496e+05 3.12070496e+05 3.12070496e+05\n",
            " 3.12070496e+05 3.35377400e+06 5.24316000e+05 2.78171000e+05\n",
            " 8.23400000e+03 2.50177000e+05 1.85010000e+04 3.12070496e+05\n",
            " 2.53070000e+04 6.04369000e+05 7.23200000e+03 6.27900000e+03\n",
            " 4.41500000e+03 1.87544000e+05 1.07765000e+05 3.12070496e+05\n",
            " 7.40000000e+04 1.96119000e+05 4.07900000e+03 3.12070496e+05\n",
            " 1.87167000e+05 3.12070496e+05 3.28548000e+05 1.13492000e+05\n",
            " 3.12070496e+05 3.12070496e+05 2.28000000e+03 1.05565000e+05\n",
            " 3.12070496e+05 1.80430000e+04 5.78990000e+04 1.56130000e+04\n",
            " 3.62940000e+04 3.12070496e+05 3.12070496e+05 1.42262000e+05\n",
            " 3.21640000e+04 4.05900000e+03 4.16400000e+03 3.90560000e+04\n",
            " 3.12070496e+05 1.00822000e+05 7.68061000e+05 3.56130000e+04\n",
            " 1.80200000e+03 1.80000000e+03 3.12070496e+05 2.00110000e+04\n",
            " 7.20000000e+01 1.19373000e+05 1.13524000e+05 3.12070496e+05\n",
            " 3.12070496e+05 2.64000000e+03 7.77050000e+04 3.12070496e+05\n",
            " 3.12070496e+05 1.80030000e+04 3.12070496e+05 1.12252000e+05\n",
            " 5.59660000e+04 2.44561000e+05 3.12070496e+05 1.02900000e+03\n",
            " 1.23958000e+05 5.56030000e+04 8.95200000e+04 1.98404000e+05\n",
            " 6.95827000e+05 1.01091000e+05 3.12070496e+05 4.07441000e+05\n",
            " 9.54000000e+02 1.50400000e+03 7.42100000e+03 8.58717000e+05\n",
            " 1.47940000e+04 3.64410000e+04 2.72610000e+05 3.47070000e+04\n",
            " 3.12070496e+05 2.17820000e+04 3.12070496e+05 7.76200000e+03\n",
            " 2.40148000e+05 3.12070496e+05 1.39265200e+06 3.12070496e+05\n",
            " 7.04870000e+04 3.12070496e+05 2.03030000e+04 2.45719700e+06\n",
            " 1.33759000e+05 3.12070496e+05 2.74010000e+04 3.12070496e+05\n",
            " 3.48940000e+04 3.12070496e+05 5.68800000e+03 5.97450000e+05\n",
            " 4.42010000e+04 1.52981700e+06 2.23820000e+04 3.12070496e+05\n",
            " 4.63320000e+04 4.94300000e+03 2.45621000e+05 3.12070496e+05]\n"
          ]
        }
      ]
    },
    {
      "cell_type": "code",
      "source": [
        "from sklearn.preprocessing import StandardScaler\n",
        "sc = StandardScaler()\n",
        "x_train = sc.fit_transform(x_train)\n",
        "x_test = sc.transform(x_test)"
      ],
      "metadata": {
        "id": "s2huv2qnw8Ja"
      },
      "execution_count": null,
      "outputs": []
    },
    {
      "cell_type": "code",
      "source": [
        "print(x_train)"
      ],
      "metadata": {
        "colab": {
          "base_uri": "https://localhost:8080/"
        },
        "id": "E2S4VbBju2ii",
        "outputId": "5dd19a13-ede5-42c0-943c-799911226ff8"
      },
      "execution_count": 15,
      "outputs": [
        {
          "output_type": "stream",
          "name": "stdout",
          "text": [
            "[[  4.     5.     6.     1.   136.9   12.  ]\n",
            " [  2.     5.     5.     7.    81.9    6.  ]\n",
            " [  3.     4.     5.     5.   262.73  18.  ]\n",
            " ...\n",
            " [  2.     6.     2.     1.   503.2   51.  ]\n",
            " [  2.     7.     3.     1.    35.15   1.  ]\n",
            " [  4.     6.     2.     9.   468.91  34.  ]]\n"
          ]
        }
      ]
    },
    {
      "cell_type": "code",
      "source": [
        "print(x_test)\n"
      ],
      "metadata": {
        "colab": {
          "base_uri": "https://localhost:8080/"
        },
        "id": "i5737lSUG9rh",
        "outputId": "43c38aa7-a838-4378-bd94-6acdc1d30205"
      },
      "execution_count": 16,
      "outputs": [
        {
          "output_type": "stream",
          "name": "stdout",
          "text": [
            "[[5.00000000e+00 5.00000000e+00 1.00000000e+00 1.00000000e+00\n",
            "  9.75000000e+00 6.29777407e+01]\n",
            " [2.00000000e+00 1.00000000e+00 3.00000000e+00 5.00000000e+00\n",
            "  1.34820000e+02 1.90000000e+01]\n",
            " [3.00000000e+00 7.00000000e+00 7.00000000e+00 1.00000000e+00\n",
            "  2.88360000e+02 1.20000000e+01]\n",
            " ...\n",
            " [3.00000000e+00 6.00000000e+00 3.00000000e+00 5.00000000e+00\n",
            "  5.40100000e+01 4.00000000e+00]\n",
            " [1.00000000e+00 3.00000000e+00 6.00000000e+00 1.00000000e+00\n",
            "  1.06028000e+03 4.30000000e+01]\n",
            " [1.00000000e+00 7.00000000e+00 5.00000000e+00 1.00000000e+00\n",
            "  1.98700000e+01 6.29777407e+01]]\n"
          ]
        }
      ]
    },
    {
      "cell_type": "code",
      "source": [
        "from sklearn.linear_model import LinearRegression\n",
        "regressor = LinearRegression()\n",
        "regressor.fit(x_train,y_train)"
      ],
      "metadata": {
        "colab": {
          "base_uri": "https://localhost:8080/",
          "height": 74
        },
        "id": "lKRZkLVdwTlD",
        "outputId": "764c1266-0b83-4335-c0e2-e484c81a276b"
      },
      "execution_count": 17,
      "outputs": [
        {
          "output_type": "execute_result",
          "data": {
            "text/plain": [
              "LinearRegression()"
            ],
            "text/html": [
              "<style>#sk-container-id-1 {color: black;background-color: white;}#sk-container-id-1 pre{padding: 0;}#sk-container-id-1 div.sk-toggleable {background-color: white;}#sk-container-id-1 label.sk-toggleable__label {cursor: pointer;display: block;width: 100%;margin-bottom: 0;padding: 0.3em;box-sizing: border-box;text-align: center;}#sk-container-id-1 label.sk-toggleable__label-arrow:before {content: \"▸\";float: left;margin-right: 0.25em;color: #696969;}#sk-container-id-1 label.sk-toggleable__label-arrow:hover:before {color: black;}#sk-container-id-1 div.sk-estimator:hover label.sk-toggleable__label-arrow:before {color: black;}#sk-container-id-1 div.sk-toggleable__content {max-height: 0;max-width: 0;overflow: hidden;text-align: left;background-color: #f0f8ff;}#sk-container-id-1 div.sk-toggleable__content pre {margin: 0.2em;color: black;border-radius: 0.25em;background-color: #f0f8ff;}#sk-container-id-1 input.sk-toggleable__control:checked~div.sk-toggleable__content {max-height: 200px;max-width: 100%;overflow: auto;}#sk-container-id-1 input.sk-toggleable__control:checked~label.sk-toggleable__label-arrow:before {content: \"▾\";}#sk-container-id-1 div.sk-estimator input.sk-toggleable__control:checked~label.sk-toggleable__label {background-color: #d4ebff;}#sk-container-id-1 div.sk-label input.sk-toggleable__control:checked~label.sk-toggleable__label {background-color: #d4ebff;}#sk-container-id-1 input.sk-hidden--visually {border: 0;clip: rect(1px 1px 1px 1px);clip: rect(1px, 1px, 1px, 1px);height: 1px;margin: -1px;overflow: hidden;padding: 0;position: absolute;width: 1px;}#sk-container-id-1 div.sk-estimator {font-family: monospace;background-color: #f0f8ff;border: 1px dotted black;border-radius: 0.25em;box-sizing: border-box;margin-bottom: 0.5em;}#sk-container-id-1 div.sk-estimator:hover {background-color: #d4ebff;}#sk-container-id-1 div.sk-parallel-item::after {content: \"\";width: 100%;border-bottom: 1px solid gray;flex-grow: 1;}#sk-container-id-1 div.sk-label:hover label.sk-toggleable__label {background-color: #d4ebff;}#sk-container-id-1 div.sk-serial::before {content: \"\";position: absolute;border-left: 1px solid gray;box-sizing: border-box;top: 0;bottom: 0;left: 50%;z-index: 0;}#sk-container-id-1 div.sk-serial {display: flex;flex-direction: column;align-items: center;background-color: white;padding-right: 0.2em;padding-left: 0.2em;position: relative;}#sk-container-id-1 div.sk-item {position: relative;z-index: 1;}#sk-container-id-1 div.sk-parallel {display: flex;align-items: stretch;justify-content: center;background-color: white;position: relative;}#sk-container-id-1 div.sk-item::before, #sk-container-id-1 div.sk-parallel-item::before {content: \"\";position: absolute;border-left: 1px solid gray;box-sizing: border-box;top: 0;bottom: 0;left: 50%;z-index: -1;}#sk-container-id-1 div.sk-parallel-item {display: flex;flex-direction: column;z-index: 1;position: relative;background-color: white;}#sk-container-id-1 div.sk-parallel-item:first-child::after {align-self: flex-end;width: 50%;}#sk-container-id-1 div.sk-parallel-item:last-child::after {align-self: flex-start;width: 50%;}#sk-container-id-1 div.sk-parallel-item:only-child::after {width: 0;}#sk-container-id-1 div.sk-dashed-wrapped {border: 1px dashed gray;margin: 0 0.4em 0.5em 0.4em;box-sizing: border-box;padding-bottom: 0.4em;background-color: white;}#sk-container-id-1 div.sk-label label {font-family: monospace;font-weight: bold;display: inline-block;line-height: 1.2em;}#sk-container-id-1 div.sk-label-container {text-align: center;}#sk-container-id-1 div.sk-container {/* jupyter's `normalize.less` sets `[hidden] { display: none; }` but bootstrap.min.css set `[hidden] { display: none !important; }` so we also need the `!important` here to be able to override the default hidden behavior on the sphinx rendered scikit-learn.org. See: https://github.com/scikit-learn/scikit-learn/issues/21755 */display: inline-block !important;position: relative;}#sk-container-id-1 div.sk-text-repr-fallback {display: none;}</style><div id=\"sk-container-id-1\" class=\"sk-top-container\"><div class=\"sk-text-repr-fallback\"><pre>LinearRegression()</pre><b>In a Jupyter environment, please rerun this cell to show the HTML representation or trust the notebook. <br />On GitHub, the HTML representation is unable to render, please try loading this page with nbviewer.org.</b></div><div class=\"sk-container\" hidden><div class=\"sk-item\"><div class=\"sk-estimator sk-toggleable\"><input class=\"sk-toggleable__control sk-hidden--visually\" id=\"sk-estimator-id-1\" type=\"checkbox\" checked><label for=\"sk-estimator-id-1\" class=\"sk-toggleable__label sk-toggleable__label-arrow\">LinearRegression</label><div class=\"sk-toggleable__content\"><pre>LinearRegression()</pre></div></div></div></div></div>"
            ]
          },
          "metadata": {},
          "execution_count": 17
        }
      ]
    },
    {
      "cell_type": "code",
      "source": [
        "print(dataset.head())"
      ],
      "metadata": {
        "colab": {
          "base_uri": "https://localhost:8080/"
        },
        "id": "D2G5OxiOZAjk",
        "outputId": "03bfb28f-bdf3-460a-f6eb-c4176b8178c7"
      },
      "execution_count": 18,
      "outputs": [
        {
          "output_type": "stream",
          "name": "stdout",
          "text": [
            "   Kilometres  Zone  Bonus  Make  Insured  Claims  Payment\n",
            "0           1     1      1     1   455.13     108   392491\n",
            "1           1     1      1     2    69.17      19    46221\n",
            "2           1     1      1     3    72.88      13    15694\n",
            "3           1     1      1     4  1292.39     124   422201\n",
            "4           1     1      1     5   191.01      40   119373\n"
          ]
        }
      ]
    },
    {
      "cell_type": "code",
      "source": [
        "print(dataset.describe())"
      ],
      "metadata": {
        "colab": {
          "base_uri": "https://localhost:8080/"
        },
        "id": "ur52j1EqHB6j",
        "outputId": "4e0436d3-74b8-4952-84a0-152aae4e5522"
      },
      "execution_count": 19,
      "outputs": [
        {
          "output_type": "stream",
          "name": "stdout",
          "text": [
            "        Kilometres         Zone        Bonus         Make        Insured  \\\n",
            "count  2182.000000  2182.000000  2182.000000  2182.000000    2182.000000   \n",
            "mean      2.985793     3.970211     4.015124     4.991751    1092.195270   \n",
            "std       1.410409     1.988858     2.000516     2.586943    5661.156245   \n",
            "min       1.000000     1.000000     1.000000     1.000000       0.010000   \n",
            "25%       2.000000     2.000000     2.000000     3.000000      21.610000   \n",
            "50%       3.000000     4.000000     4.000000     5.000000      81.525000   \n",
            "75%       4.000000     6.000000     6.000000     7.000000     389.782500   \n",
            "max       5.000000     7.000000     7.000000     9.000000  127687.270000   \n",
            "\n",
            "            Claims       Payment  \n",
            "count  2182.000000  2.182000e+03  \n",
            "mean     51.865720  2.570076e+05  \n",
            "std     201.710694  1.017283e+06  \n",
            "min       0.000000  0.000000e+00  \n",
            "25%       1.000000  2.988750e+03  \n",
            "50%       5.000000  2.740350e+04  \n",
            "75%      21.000000  1.119538e+05  \n",
            "max    3338.000000  1.824503e+07  \n"
          ]
        }
      ]
    },
    {
      "cell_type": "code",
      "source": [
        "dataset.plot()"
      ],
      "metadata": {
        "colab": {
          "base_uri": "https://localhost:8080/",
          "height": 462
        },
        "id": "hlDun_NNHIEz",
        "outputId": "d91d9988-012c-4c69-91f5-f01c2cb98ab3"
      },
      "execution_count": 20,
      "outputs": [
        {
          "output_type": "execute_result",
          "data": {
            "text/plain": [
              "<Axes: >"
            ]
          },
          "metadata": {},
          "execution_count": 20
        },
        {
          "output_type": "display_data",
          "data": {
            "text/plain": [
              "<Figure size 640x480 with 1 Axes>"
            ],
            "image/png": "[encoded data removed]"
          },
          "metadata": {}
        }
      ]
    },
    {
      "cell_type": "code",
      "source": [
        "dataset.plot(kind='box', subplots=True, figsize=(12,6))"
      ],
      "metadata": {
        "colab": {
          "base_uri": "https://localhost:8080/",
          "height": 489
        },
        "id": "XmsoEgT4ZKrC",
        "outputId": "14a57f0e-06a1-4300-aad8-19d1c834da95"
      },
      "execution_count": 21,
      "outputs": [
        {
          "output_type": "execute_result",
          "data": {
            "text/plain": [
              "Kilometres       Axes(0.125,0.11;0.0945122x0.77)\n",
              "Zone          Axes(0.238415,0.11;0.0945122x0.77)\n",
              "Bonus         Axes(0.351829,0.11;0.0945122x0.77)\n",
              "Make          Axes(0.465244,0.11;0.0945122x0.77)\n",
              "Insured       Axes(0.578659,0.11;0.0945122x0.77)\n",
              "Claims        Axes(0.692073,0.11;0.0945122x0.77)\n",
              "Payment       Axes(0.805488,0.11;0.0945122x0.77)\n",
              "dtype: object"
            ]
          },
          "metadata": {},
          "execution_count": 21
        },
        {
          "output_type": "display_data",
          "data": {
            "text/plain": [
              "<Figure size 1200x600 with 7 Axes>"
            ],
            "image/png": "[encoded data removed]"
          },
          "metadata": {}
        }
      ]
    },
    {
      "cell_type": "code",
      "source": [
        "y_pred = regressor.predict(x_test)\n"
      ],
      "metadata": {
        "id": "2gC2t-1pI_BK"
      },
      "execution_count": 22,
      "outputs": []
    },
    {
      "cell_type": "code",
      "source": [
        "import matplotlib.pyplot as plt\n",
        "plt.scatter(dataset['Insured'], dataset['Payment'])\n",
        "plt.xlabel('Insured')\n",
        "plt.ylabel('Payment')\n",
        "plt.legend()\n",
        "plt.show()"
      ],
      "metadata": {
        "colab": {
          "base_uri": "https://localhost:8080/",
          "height": 502
        },
        "id": "AHUlCCm5ZvFh",
        "outputId": "940fb419-a849-4c9a-908d-629937cd0b82"
      },
      "execution_count": 23,
      "outputs": [
        {
          "output_type": "stream",
          "name": "stderr",
          "text": [
            "WARNING:matplotlib.legend:No artists with labels found to put in legend.  Note that artists whose label start with an underscore are ignored when legend() is called with no argument.\n"
          ]
        },
        {
          "output_type": "display_data",
          "data": {
            "text/plain": [
              "<Figure size 640x480 with 1 Axes>"
            ],
            "image/png": "[encoded data removed]"
          },
          "metadata": {}
        }
      ]
    },
    {
      "cell_type": "code",
      "source": [
        "import matplotlib.pyplot as plt\n",
        "plt.scatter(dataset['Claims'], dataset['Payment'])\n",
        "plt.xlabel('Claims')\n",
        "plt.ylabel('Payment')\n",
        "plt.legend()\n",
        "plt.show()"
      ],
      "metadata": {
        "id": "K6cSUbdVKNsl",
        "colab": {
          "base_uri": "https://localhost:8080/",
          "height": 502
        },
        "outputId": "9666cebe-5109-45f2-88fd-6676db6da8e3"
      },
      "execution_count": 24,
      "outputs": [
        {
          "output_type": "stream",
          "name": "stderr",
          "text": [
            "WARNING:matplotlib.legend:No artists with labels found to put in legend.  Note that artists whose label start with an underscore are ignored when legend() is called with no argument.\n"
          ]
        },
        {
          "output_type": "display_data",
          "data": {
            "text/plain": [
              "<Figure size 640x480 with 1 Axes>"
            ],
            "image/png": "[encoded data removed]"
          },
          "metadata": {}
        }
      ]
    },
    {
      "cell_type": "code",
      "source": [
        "claims=dataset.iloc[:, 5:6].values\n",
        "payment=dataset.iloc[:, -1].values"
      ],
      "metadata": {
        "id": "tFtrZqohd28J"
      },
      "execution_count": 25,
      "outputs": []
    },
    {
      "cell_type": "code",
      "source": [
        "from sklearn.model_selection import train_test_split\n",
        "claims_train, claims_test, payment_train, payment_test= train_test_split(claims,payment, test_size=1/3, random_state =0)"
      ],
      "metadata": {
        "id": "D4C1hqYjbmWR"
      },
      "execution_count": 26,
      "outputs": []
    },
    {
      "cell_type": "code",
      "source": [
        "from sklearn.linear_model import LinearRegression\n",
        "regressor=LinearRegression()\n",
        "regressor.fit(claims_train,payment_train)"
      ],
      "metadata": {
        "colab": {
          "base_uri": "https://localhost:8080/",
          "height": 74
        },
        "id": "M_Uy2s_VbvH0",
        "outputId": "3b6a216c-d89a-4c04-f90f-e6fd8e5d96eb"
      },
      "execution_count": 27,
      "outputs": [
        {
          "output_type": "execute_result",
          "data": {
            "text/plain": [
              "LinearRegression()"
            ],
            "text/html": [
              "<style>#sk-container-id-2 {color: black;background-color: white;}#sk-container-id-2 pre{padding: 0;}#sk-container-id-2 div.sk-toggleable {background-color: white;}#sk-container-id-2 label.sk-toggleable__label {cursor: pointer;display: block;width: 100%;margin-bottom: 0;padding: 0.3em;box-sizing: border-box;text-align: center;}#sk-container-id-2 label.sk-toggleable__label-arrow:before {content: \"▸\";float: left;margin-right: 0.25em;color: #696969;}#sk-container-id-2 label.sk-toggleable__label-arrow:hover:before {color: black;}#sk-container-id-2 div.sk-estimator:hover label.sk-toggleable__label-arrow:before {color: black;}#sk-container-id-2 div.sk-toggleable__content {max-height: 0;max-width: 0;overflow: hidden;text-align: left;background-color: #f0f8ff;}#sk-container-id-2 div.sk-toggleable__content pre {margin: 0.2em;color: black;border-radius: 0.25em;background-color: #f0f8ff;}#sk-container-id-2 input.sk-toggleable__control:checked~div.sk-toggleable__content {max-height: 200px;max-width: 100%;overflow: auto;}#sk-container-id-2 input.sk-toggleable__control:checked~label.sk-toggleable__label-arrow:before {content: \"▾\";}#sk-container-id-2 div.sk-estimator input.sk-toggleable__control:checked~label.sk-toggleable__label {background-color: #d4ebff;}#sk-container-id-2 div.sk-label input.sk-toggleable__control:checked~label.sk-toggleable__label {background-color: #d4ebff;}#sk-container-id-2 input.sk-hidden--visually {border: 0;clip: rect(1px 1px 1px 1px);clip: rect(1px, 1px, 1px, 1px);height: 1px;margin: -1px;overflow: hidden;padding: 0;position: absolute;width: 1px;}#sk-container-id-2 div.sk-estimator {font-family: monospace;background-color: #f0f8ff;border: 1px dotted black;border-radius: 0.25em;box-sizing: border-box;margin-bottom: 0.5em;}#sk-container-id-2 div.sk-estimator:hover {background-color: #d4ebff;}#sk-container-id-2 div.sk-parallel-item::after {content: \"\";width: 100%;border-bottom: 1px solid gray;flex-grow: 1;}#sk-container-id-2 div.sk-label:hover label.sk-toggleable__label {background-color: #d4ebff;}#sk-container-id-2 div.sk-serial::before {content: \"\";position: absolute;border-left: 1px solid gray;box-sizing: border-box;top: 0;bottom: 0;left: 50%;z-index: 0;}#sk-container-id-2 div.sk-serial {display: flex;flex-direction: column;align-items: center;background-color: white;padding-right: 0.2em;padding-left: 0.2em;position: relative;}#sk-container-id-2 div.sk-item {position: relative;z-index: 1;}#sk-container-id-2 div.sk-parallel {display: flex;align-items: stretch;justify-content: center;background-color: white;position: relative;}#sk-container-id-2 div.sk-item::before, #sk-container-id-2 div.sk-parallel-item::before {content: \"\";position: absolute;border-left: 1px solid gray;box-sizing: border-box;top: 0;bottom: 0;left: 50%;z-index: -1;}#sk-container-id-2 div.sk-parallel-item {display: flex;flex-direction: column;z-index: 1;position: relative;background-color: white;}#sk-container-id-2 div.sk-parallel-item:first-child::after {align-self: flex-end;width: 50%;}#sk-container-id-2 div.sk-parallel-item:last-child::after {align-self: flex-start;width: 50%;}#sk-container-id-2 div.sk-parallel-item:only-child::after {width: 0;}#sk-container-id-2 div.sk-dashed-wrapped {border: 1px dashed gray;margin: 0 0.4em 0.5em 0.4em;box-sizing: border-box;padding-bottom: 0.4em;background-color: white;}#sk-container-id-2 div.sk-label label {font-family: monospace;font-weight: bold;display: inline-block;line-height: 1.2em;}#sk-container-id-2 div.sk-label-container {text-align: center;}#sk-container-id-2 div.sk-container {/* jupyter's `normalize.less` sets `[hidden] { display: none; }` but bootstrap.min.css set `[hidden] { display: none !important; }` so we also need the `!important` here to be able to override the default hidden behavior on the sphinx rendered scikit-learn.org. See: https://github.com/scikit-learn/scikit-learn/issues/21755 */display: inline-block !important;position: relative;}#sk-container-id-2 div.sk-text-repr-fallback {display: none;}</style><div id=\"sk-container-id-2\" class=\"sk-top-container\"><div class=\"sk-text-repr-fallback\"><pre>LinearRegression()</pre><b>In a Jupyter environment, please rerun this cell to show the HTML representation or trust the notebook. <br />On GitHub, the HTML representation is unable to render, please try loading this page with nbviewer.org.</b></div><div class=\"sk-container\" hidden><div class=\"sk-item\"><div class=\"sk-estimator sk-toggleable\"><input class=\"sk-toggleable__control sk-hidden--visually\" id=\"sk-estimator-id-2\" type=\"checkbox\" checked><label for=\"sk-estimator-id-2\" class=\"sk-toggleable__label sk-toggleable__label-arrow\">LinearRegression</label><div class=\"sk-toggleable__content\"><pre>LinearRegression()</pre></div></div></div></div></div>"
            ]
          },
          "metadata": {},
          "execution_count": 27
        }
      ]
    },
    {
      "cell_type": "code",
      "source": [
        "plt.scatter(claims_train, payment_train, color = 'red')\n",
        "plt.plot(claims_train, regressor.predict(claims_train), color = 'blue')\n",
        "plt.title('claims vs payment (Training set)')\n",
        "plt.xlabel('claims')\n",
        "plt.ylabel('payment')\n",
        "plt.show()"
      ],
      "metadata": {
        "colab": {
          "base_uri": "https://localhost:8080/",
          "height": 472
        },
        "id": "YmTOPmnvdIDH",
        "outputId": "a4b62b58-a1a5-4287-9461-5a8e3eccf33e"
      },
      "execution_count": 28,
      "outputs": [
        {
          "output_type": "display_data",
          "data": {
            "text/plain": [
              "<Figure size 640x480 with 1 Axes>"
            ],
            "image/png": "[encoded data removed]"
          },
          "metadata": {}
        }
      ]
    }
  ]
}